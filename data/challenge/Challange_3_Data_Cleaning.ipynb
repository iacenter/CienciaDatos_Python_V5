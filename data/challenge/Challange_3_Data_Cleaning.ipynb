{
 "cells": [
  {
   "cell_type": "markdown",
   "metadata": {},
   "source": [
    "# Cleaning Data\n"
   ]
  },
  {
   "cell_type": "markdown",
   "metadata": {},
   "source": [
    "## Data Challange"
   ]
  },
  {
   "cell_type": "markdown",
   "metadata": {},
   "source": [
    "### Diagnosing data cleaning problems using simple pandas and visualizations\n",
    "\n",
    "Some important and common methods needed to get a better understanding of DataFrames and diagnose potential data problems are the following:\n",
    "\n",
    "- .head() prints the header of a DataFrame\n",
    "- .dtypes prints datatypes of all columns in a DataFrame\n",
    "- .info() provides a bird's eye view of column data types and missing values in a DataFrame\n",
    "- .describe() returns a distribution of numeric columns in your DataFrame\n",
    "- .isna().sum() allows us to break down the number of missing values per column in our DataFrame\n",
    "- .unique() finds the number of unique values in a DataFrame column\n",
    "\n",
    "\n"
   ]
  },
  {
   "cell_type": "markdown",
   "metadata": {},
   "source": [
    "### The Dataset\n",
    "\n",
    "This dataset (airbnb.csv) contains data on airbnb listings in the state of New York. It contains the following columns:\n",
    "\n",
    "- listing_id: The unique identifier for a listing\n",
    "- description: The description used on the listing\n",
    "- host_id: Unique identifier for a host\n",
    "- host_name: Name of host\n",
    "- neighbourhood_full: Name of boroughs and neighbourhoods\n",
    "- coordinates: Coordinates of listing (latitude, longitude)\n",
    "- Listing added: Date of added listing\n",
    "- room_type: Type of room\n",
    "- rating: Rating from 0 to 5.\n",
    "- price: Price per night for listing\n",
    "- number_of_reviews: Amount of reviews received\n",
    "- last_review: Date of last review\n",
    "- reviews_per_month: Number of reviews per month\n",
    "- availability_365: Number of days available per year\n",
    "- Number of stays: Total number of stays thus far\n",
    "\n"
   ]
  },
  {
   "cell_type": "markdown",
   "metadata": {},
   "source": [
    "By merely looking at the data, we can already diagnose a range of potential problems down the line such as:\n",
    "\n",
    "\n",
    "\n",
    "- Data type problems:\n",
    "\n",
    "\n",
    "\n",
    "\n",
    "- Missing data problems:\n",
    "\n",
    "\n",
    "\n",
    "- Text/categorical data problems:"
   ]
  },
  {
   "cell_type": "markdown",
   "metadata": {},
   "source": [
    "Your code and solution must contain an analysis of \n",
    "\n",
    "- Data types\n",
    "- Statistic summary\n",
    "- Missing data\n",
    "- How many values of different room_types do we have?\n",
    "- Cleaning data \n",
    "    - Remove \"(\" and \")\" from coordinates and split column into two\n",
    "    - Assign correct columns to latitude and longitude columns in airbnb\n",
    "    - Convert latitude and longitude to float\n",
    "    - Drop coordinates column. This means, you should have two columns  latitude\tlongitude containing respective data\n",
    "    - Remove ($) from price\n",
    "    - Convert price to float\n",
    "    - Calculate mean of price\n",
    "    - Convert listing_added and last_review columns to datetime\n",
    "    \n",
    "- Consistency \n",
    "    - unique values\n",
    "    - Are there any listings with listing_added > last_review\n",
    "    - Print unique values of `room_type`\n",
    "    - Deal with capitalized values `room_type`\n",
    "    - Deal with trailing spaces `room_type`\n",
    "    - Replace values to 'Shared room', 'Entire place', 'Private room' and 'Hotel room' (if applicable)\n",
    "    - Divide neighbourhood_full into 2 columns and making sure they are clean\n",
    "    - Create borough and neighbourhood columns\n",
    "    - Drop neighbourhood_full column\n",
    "    - Print out unique values of borough and neighbourhood\n",
    "    - Strip white space from neighbourhood column\n",
    "    - Make sure we set the correct maximum for rating column out of range values\n",
    "    - Isolate rows of rating > 5.0\n",
    "    - Drop these rows and make sure we have effected changes\n",
    "    - Visualize (histogram) the rating column again using seaborn or matplotlib\n",
    "    - Get the maximum value\n",
    "\n",
    "- Let's deal with duplicate data\n",
    "    - Find duplicates\n",
    "    - Remove identical duplicates\n",
    "    - Find non-identical duplicates\n",
    "    - Show all duplicates\n",
    "\n",
    "\n",
    "**Deadline Sunday 10th**\n",
    "\n",
    "#HappyCoding\n",
    "\n",
    "\n",
    "\n",
    "\n"
   ]
  },
  {
   "cell_type": "code",
   "execution_count": null,
   "metadata": {},
   "outputs": [],
   "source": []
  },
  {
   "cell_type": "code",
   "execution_count": 1,
   "metadata": {
    "ExecuteTime": {
     "end_time": "2023-09-06T22:47:45.587139Z",
     "start_time": "2023-09-06T22:47:45.585022Z"
    }
   },
   "outputs": [],
   "source": [
    "# Loading the dataset\n"
   ]
  },
  {
   "cell_type": "code",
   "execution_count": null,
   "metadata": {},
   "outputs": [],
   "source": []
  },
  {
   "cell_type": "code",
   "execution_count": null,
   "metadata": {},
   "outputs": [],
   "source": []
  },
  {
   "cell_type": "code",
   "execution_count": null,
   "metadata": {},
   "outputs": [],
   "source": []
  },
  {
   "cell_type": "code",
   "execution_count": null,
   "metadata": {},
   "outputs": [],
   "source": []
  }
 ],
 "metadata": {
  "hide_input": false,
  "kernelspec": {
   "display_name": "Python 3 (ipykernel)",
   "language": "python",
   "name": "python3"
  },
  "language_info": {
   "codemirror_mode": {
    "name": "ipython",
    "version": 3
   },
   "file_extension": ".py",
   "mimetype": "text/x-python",
   "name": "python",
   "nbconvert_exporter": "python",
   "pygments_lexer": "ipython3",
   "version": "3.11.3"
  },
  "toc": {
   "base_numbering": 1,
   "nav_menu": {},
   "number_sections": true,
   "sideBar": true,
   "skip_h1_title": false,
   "title_cell": "Table of Contents",
   "title_sidebar": "Contents",
   "toc_cell": false,
   "toc_position": {
    "height": "calc(100% - 180px)",
    "left": "10px",
    "top": "150px",
    "width": "329.575px"
   },
   "toc_section_display": true,
   "toc_window_display": true
  },
  "varInspector": {
   "cols": {
    "lenName": 16,
    "lenType": 16,
    "lenVar": 40
   },
   "kernels_config": {
    "python": {
     "delete_cmd_postfix": "",
     "delete_cmd_prefix": "del ",
     "library": "var_list.py",
     "varRefreshCmd": "print(var_dic_list())"
    },
    "r": {
     "delete_cmd_postfix": ") ",
     "delete_cmd_prefix": "rm(",
     "library": "var_list.r",
     "varRefreshCmd": "cat(var_dic_list()) "
    }
   },
   "types_to_exclude": [
    "module",
    "function",
    "builtin_function_or_method",
    "instance",
    "_Feature"
   ],
   "window_display": false
  }
 },
 "nbformat": 4,
 "nbformat_minor": 4
}
